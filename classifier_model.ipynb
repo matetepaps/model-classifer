{
  "nbformat": 4,
  "nbformat_minor": 0,
  "metadata": {
    "colab": {
      "provenance": [],
      "authorship_tag": "ABX9TyMRcnT7SOPrT7y4nnvtKtQM",
      "include_colab_link": true
    },
    "kernelspec": {
      "name": "python3",
      "display_name": "Python 3"
    },
    "language_info": {
      "name": "python"
    }
  },
  "cells": [
    {
      "cell_type": "markdown",
      "metadata": {
        "id": "view-in-github",
        "colab_type": "text"
      },
      "source": [
        "<a href=\"https://colab.research.google.com/github/matetepaps/model-classifer/blob/main/classifier_model.ipynb\" target=\"_parent\"><img src=\"https://colab.research.google.com/assets/colab-badge.svg\" alt=\"Open In Colab\"/></a>"
      ]
    },
    {
      "cell_type": "code",
      "execution_count": 1,
      "metadata": {
        "colab": {
          "base_uri": "https://localhost:8080/"
        },
        "id": "PGqAjyyhUQ5k",
        "outputId": "9ef0ea49-2a05-49ad-cda7-2a641ff7ce28"
      },
      "outputs": [
        {
          "output_type": "stream",
          "name": "stdout",
          "text": [
            "Requirement already satisfied: psycopg2-binary in /usr/local/lib/python3.10/dist-packages (2.9.9)\n"
          ]
        }
      ],
      "source": [
        "!pip install psycopg2-binary"
      ]
    },
    {
      "cell_type": "code",
      "source": [
        "#import important libraries\n",
        "\n",
        "import pandas as pd\n",
        "from sklearn.feature_extraction.text import TfidfVectorizer\n",
        "from sklearn.model_selection import train_test_split\n",
        "from sklearn.tree import DecisionTreeClassifier\n",
        "from sklearn.metrics import classification_report\n",
        "from sqlalchemy import create_engine\n",
        "import nltk\n",
        "from nltk.tokenize import word_tokenize\n",
        "from nltk.corpus import stopwords\n",
        "from nltk.stem import WordNetLemmatizer\n",
        "import os\n",
        "\n",
        "# Download NLTK resources (run once)\n",
        "nltk.download('punkt')\n",
        "nltk.download('stopwords')\n",
        "nltk.download('wordnet')\n",
        "\n",
        "# Database connection details (replace with actual credentials)\n",
        "user = \"niphemi.oyewole\"\n",
        "password = \"W7bHIgaN1ejh\"\n",
        "database = \"Vetassist\"\n",
        "host = \"ep-delicate-river-a5cq94ee-pooler.us-east-2.aws.neon.tech\""
      ],
      "metadata": {
        "colab": {
          "base_uri": "https://localhost:8080/"
        },
        "id": "HL7jEp8sUhf7",
        "outputId": "9e2eae7a-a5ac-48a3-96bf-887f85a05dac"
      },
      "execution_count": 2,
      "outputs": [
        {
          "output_type": "stream",
          "name": "stderr",
          "text": [
            "[nltk_data] Downloading package punkt to /root/nltk_data...\n",
            "[nltk_data]   Package punkt is already up-to-date!\n",
            "[nltk_data] Downloading package stopwords to /root/nltk_data...\n",
            "[nltk_data]   Package stopwords is already up-to-date!\n",
            "[nltk_data] Downloading package wordnet to /root/nltk_data...\n",
            "[nltk_data]   Package wordnet is already up-to-date!\n"
          ]
        }
      ]
    },
    {
      "cell_type": "code",
      "source": [
        "# Connect to Postgres database (assuming SQLAlchemy is installed)\n",
        "conn_string = f\"postgresql://{user}:{password}@{host}/{database}\"\n",
        "engine = create_engine(conn_string)\n",
        "\n",
        "# Define stopwords and lemmatizer\n",
        "stop_words = set(stopwords.words('english'))\n",
        "lemmatizer = WordNetLemmatizer()\n",
        "\n",
        "#Function to preprocess text data\n",
        "#Preprocesses text data by converting to lowercase, removing punctuation,\n",
        "#tokenizing, removing stopwords, and optionally lemmatizing.\n",
        "def preprocess_text(text):\n",
        "    text = text.lower()  # Convert text to lowercase\n",
        "    tokens = word_tokenize(text)  # Tokenize text\n",
        "    filtered_tokens = [token for token in tokens if token not in stop_words]  # Remove stopwords\n",
        "    lemmatized_tokens = [lemmatizer.lemmatize(token) for token in filtered_tokens]  # Lemmatize tokens\n",
        "    preprocessed_text = ' '.join(lemmatized_tokens)  # Join tokens back into a string\n",
        "    return preprocessed_text"
      ],
      "metadata": {
        "id": "rOW2nVI6UyFV"
      },
      "execution_count": 3,
      "outputs": []
    },
    {
      "cell_type": "code",
      "source": [
        "# Load data from database\n",
        "data = pd.read_sql_table(\"reddit_usernames_comments\", engine)\n",
        "\n",
        "# Preprocess comments\n",
        "data['preprocessed_comment'] = data['comments'].apply(preprocess_text)\n",
        "\n",
        "# Define labels based on keywords. Add as many keyword as you can provide for the label\n",
        "medical_keywords = [\"doctor\", \"physician\", \"surgeon\", \"medical school\", \"resident\", \"nurse\", \"doc\", \"medical doctor\", \"medicine\", \"med doc\", \"med doctor\", \"medical doc\"]\n",
        "veterinarian_keywords = [\"veterinarian\", \"vet doc\", \"vetinary doc\", \"vet doctor\", \"vetinary doctor\", \"vet tech\", \"vet\", \"veterinary school\"]\n",
        "\n",
        "def generate_label(comment):\n",
        "    for word in medical_keywords:\n",
        "        if word in comment:\n",
        "            return \"Medical Doctor\"\n",
        "    for word in veterinarian_keywords:\n",
        "        if word in comment:\n",
        "            return \"Veterinarian\"\n",
        "    return \"Other\""
      ],
      "metadata": {
        "id": "ZeesSvWyU5m9"
      },
      "execution_count": 4,
      "outputs": []
    },
    {
      "cell_type": "code",
      "source": [
        "# Generate labels for comments\n",
        "data['classified_label'] = data['preprocessed_comment'].apply(generate_label)\n",
        "\n",
        "# Split data into features (X) and labels (y)\n",
        "X = data['preprocessed_comment']\n",
        "y = data['classified_label']\n",
        "\n",
        "# Split data into training and testing sets (80% train, 20% test)\n",
        "X_train, X_test, y_train, y_test = train_test_split(X, y, test_size=0.2, random_state=42)\n",
        "\n",
        "# TF-IDF Vectorization\n",
        "tfidf_vectorizer = TfidfVectorizer()\n",
        "X_train_tfidf = tfidf_vectorizer.fit_transform(X_train)\n",
        "X_test_tfidf = tfidf_vectorizer.transform(X_test)\n",
        "\n",
        "# Initialize and train the classifier (Decision Tree)\n",
        "classifier = DecisionTreeClassifier()\n",
        "classifier.fit(X_train_tfidf, y_train)\n",
        "\n",
        "# Predict labels for the testing set\n",
        "y_pred = classifier.predict(X_test_tfidf)\n",
        "\n",
        "\n",
        "# Evaluate the performance of the model\n",
        "print(classification_report(y_test, y_pred))\n",
        "\n",
        "# Predict labels for all comments\n",
        "all_comments_tfidf = tfidf_vectorizer.transform(data['preprocessed_comment'])\n",
        "predicted_labels = classifier.predict(all_comments_tfidf)\n",
        "\n",
        "# Add predicted labels to the DataFrame\n",
        "data['predicted_label'] = predicted_labels\n",
        "\n",
        "# Save DataFrame with predicted labels to a CSV file\n",
        "data.to_csv('predicted_labels.csv', index=False)\n"
      ],
      "metadata": {
        "colab": {
          "base_uri": "https://localhost:8080/"
        },
        "id": "zTnbPUEAVFRG",
        "outputId": "d510e078-98ac-4b9f-b8c7-7a4318572302"
      },
      "execution_count": 5,
      "outputs": [
        {
          "output_type": "stream",
          "name": "stdout",
          "text": [
            "                precision    recall  f1-score   support\n",
            "\n",
            "Medical Doctor       0.97      0.93      0.95       158\n",
            "         Other       0.98      0.98      0.98       373\n",
            "  Veterinarian       0.93      0.97      0.95       125\n",
            "\n",
            "      accuracy                           0.97       656\n",
            "     macro avg       0.96      0.96      0.96       656\n",
            "  weighted avg       0.97      0.97      0.97       656\n",
            "\n"
          ]
        }
      ]
    },
    {
      "cell_type": "code",
      "source": [
        "#Visualization of the 3 categories\n",
        "import matplotlib.pyplot as plt\n",
        "\n",
        "# Count the occurrences of each label\n",
        "label_counts = data['classified_label'].value_counts()\n",
        "\n",
        "# Plotting the bar chart\n",
        "plt.figure(figsize=(8, 6))\n",
        "label_counts.plot(kind='bar', color=['blue', 'green', 'orange'])\n",
        "plt.title('Distribution of Labels')\n",
        "plt.xlabel('Labels')\n",
        "plt.ylabel('Count')\n",
        "plt.xticks(rotation=45)  # Rotate x-axis labels\n",
        "plt.show()"
      ],
      "metadata": {
        "colab": {
          "base_uri": "https://localhost:8080/",
          "height": 634
        },
        "id": "SfgOz4ssWyB0",
        "outputId": "b18837e8-6673-4bfd-e82a-c2d1b30f7da5"
      },
      "execution_count": 6,
      "outputs": [
        {
          "output_type": "display_data",
          "data": {
            "text/plain": [
              "<Figure size 800x600 with 1 Axes>"
            ],
            "image/png": "[encoded data removed]"
          },
          "metadata": {}
        }
      ]
    },
    {
      "cell_type": "code",
      "source": [
        "# Download the CSV file\n",
        "# from google.colab import files\n",
        "# files.download('predicted_labels.csc')\n",
        "if os.path.exists('predicted_labels.csv'):\n",
        "    # Download the Excel file\n",
        "    from google.colab import files\n",
        "    files.download('predicted_labels.csv')\n",
        "else:\n",
        "    print(\"Excel file not found. Please check if the file was created.\")"
      ],
      "metadata": {
        "colab": {
          "base_uri": "https://localhost:8080/",
          "height": 17
        },
        "id": "pVAPPvnaWzjK",
        "outputId": "ed30f3f6-e7ba-4d21-8279-49bc60c138c3"
      },
      "execution_count": 7,
      "outputs": [
        {
          "output_type": "display_data",
          "data": {
            "text/plain": [
              "<IPython.core.display.Javascript object>"
            ],
            "application/javascript": [
              "\n",
              "    async function download(id, filename, size) {\n",
              "      if (!google.colab.kernel.accessAllowed) {\n",
              "        return;\n",
              "      }\n",
              "      const div = document.createElement('div');\n",
              "      const label = document.createElement('label');\n",
              "      label.textContent = `Downloading \"${filename}\": `;\n",
              "      div.appendChild(label);\n",
              "      const progress = document.createElement('progress');\n",
              "      progress.max = size;\n",
              "      div.appendChild(progress);\n",
              "      document.body.appendChild(div);\n",
              "\n",
              "      const buffers = [];\n",
              "      let downloaded = 0;\n",
              "\n",
              "      const channel = await google.colab.kernel.comms.open(id);\n",
              "      // Send a message to notify the kernel that we're ready.\n",
              "      channel.send({})\n",
              "\n",
              "      for await (const message of channel.messages) {\n",
              "        // Send a message to notify the kernel that we're ready.\n",
              "        channel.send({})\n",
              "        if (message.buffers) {\n",
              "          for (const buffer of message.buffers) {\n",
              "            buffers.push(buffer);\n",
              "            downloaded += buffer.byteLength;\n",
              "            progress.value = downloaded;\n",
              "          }\n",
              "        }\n",
              "      }\n",
              "      const blob = new Blob(buffers, {type: 'application/binary'});\n",
              "      const a = document.createElement('a');\n",
              "      a.href = window.URL.createObjectURL(blob);\n",
              "      a.download = filename;\n",
              "      div.appendChild(a);\n",
              "      a.click();\n",
              "      div.remove();\n",
              "    }\n",
              "  "
            ]
          },
          "metadata": {}
        },
        {
          "output_type": "display_data",
          "data": {
            "text/plain": [
              "<IPython.core.display.Javascript object>"
            ],
            "application/javascript": [
              "download(\"download_0942eee5-002e-482c-8d1e-e22fc0a9f14c\", \"predicted_labels.csv\", 21847413)"
            ]
          },
          "metadata": {}
        }
      ]
    },
    {
      "cell_type": "markdown",
      "source": [
        "**Confirming whether we choose the best classifier for this task: Let benchmark the Performance metrics result of Decision Tree against other classifier such as Logistic Regression, Support Vector Machine, Random Forests, and  neural networks**"
      ],
      "metadata": {
        "id": "hNoPOC-RXKyj"
      }
    },
    {
      "cell_type": "code",
      "source": [
        "from sklearn.linear_model import LogisticRegression\n",
        "from sklearn.svm import SVC\n",
        "from sklearn.ensemble import RandomForestClassifier\n",
        "from sklearn.neural_network import MLPClassifier\n",
        "\n",
        "# Initialize classifiers\n",
        "logistic_regression = LogisticRegression()\n",
        "svm = SVC()\n",
        "random_forest = RandomForestClassifier()\n",
        "neural_network = MLPClassifier()\n",
        "\n",
        "# Train classifiers\n",
        "logistic_regression.fit(X_train_tfidf, y_train)\n",
        "svm.fit(X_train_tfidf, y_train)\n",
        "random_forest.fit(X_train_tfidf, y_train)\n",
        "neural_network.fit(X_train_tfidf, y_train)\n",
        "\n",
        "# Predict labels for the testing set\n",
        "y_pred_lr = logistic_regression.predict(X_test_tfidf)\n",
        "y_pred_dt = svm.predict(X_test_tfidf)\n",
        "y_pred_rf = random_forest.predict(X_test_tfidf)\n",
        "y_pred_nn = neural_network.predict(X_test_tfidf)\n",
        "\n",
        "# Evaluate the performance of each classifier\n",
        "print(\"Logistic Regression:\")\n",
        "print(classification_report(y_test, y_pred_lr))\n",
        "print(\"Support Vector Machine:\")\n",
        "print(classification_report(y_test, y_pred_dt))\n",
        "print(\"Random Forest:\")\n",
        "print(classification_report(y_test, y_pred_rf))\n",
        "print(\"Neural Network:\")\n",
        "print(classification_report(y_test, y_pred_nn))"
      ],
      "metadata": {
        "colab": {
          "base_uri": "https://localhost:8080/"
        },
        "id": "sE3CMjXtXI0N",
        "outputId": "04d8745c-0228-4fb1-ba9f-ea4d136efe68"
      },
      "execution_count": 8,
      "outputs": [
        {
          "output_type": "stream",
          "name": "stdout",
          "text": [
            "Logistic Regression:\n",
            "                precision    recall  f1-score   support\n",
            "\n",
            "Medical Doctor       0.82      0.59      0.69       158\n",
            "         Other       0.83      0.99      0.90       373\n",
            "  Veterinarian       0.85      0.65      0.74       125\n",
            "\n",
            "      accuracy                           0.83       656\n",
            "     macro avg       0.83      0.74      0.78       656\n",
            "  weighted avg       0.83      0.83      0.82       656\n",
            "\n",
            "Support Vector Machine:\n",
            "                precision    recall  f1-score   support\n",
            "\n",
            "Medical Doctor       0.86      0.55      0.67       158\n",
            "         Other       0.81      0.99      0.89       373\n",
            "  Veterinarian       0.83      0.68      0.75       125\n",
            "\n",
            "      accuracy                           0.82       656\n",
            "     macro avg       0.83      0.74      0.77       656\n",
            "  weighted avg       0.83      0.82      0.81       656\n",
            "\n",
            "Random Forest:\n",
            "                precision    recall  f1-score   support\n",
            "\n",
            "Medical Doctor       0.79      0.54      0.64       158\n",
            "         Other       0.85      0.99      0.91       373\n",
            "  Veterinarian       0.80      0.74      0.77       125\n",
            "\n",
            "      accuracy                           0.83       656\n",
            "     macro avg       0.81      0.75      0.77       656\n",
            "  weighted avg       0.83      0.83      0.82       656\n",
            "\n",
            "Neural Network:\n",
            "                precision    recall  f1-score   support\n",
            "\n",
            "Medical Doctor       0.65      0.59      0.62       158\n",
            "         Other       0.80      0.87      0.83       373\n",
            "  Veterinarian       0.55      0.46      0.50       125\n",
            "\n",
            "      accuracy                           0.73       656\n",
            "     macro avg       0.67      0.64      0.65       656\n",
            "  weighted avg       0.72      0.73      0.72       656\n",
            "\n"
          ]
        }
      ]
    },
    {
      "cell_type": "markdown",
      "source": [
        "Decision Tree classifier perform better than the rest of classifiers.\n",
        "\n",
        "- `Precision`, among all instances predicted as `\"Medical Doctor\"` by the classifier, `97%` of them are actually \"Medical Doctor.\"`\n",
        "- `Recall`, among all actual instances of \"Other,\" the classifier correctly identified `98%` of them.\n",
        "- `Accuraccy`, the overall accuracy of the Decision Tree classifier is 0.97, indicating that it correctly classified `97%` of all instances in the test dataset.\n",
        "\n",
        "The Decision Tree classifier performs well across all classes, with high precision, recall, and F1-score values. The high accuracy indicates that the classifier is effective in distinguishing between the three classes in the dataset."
      ],
      "metadata": {
        "id": "wCrY6mSuZeIO"
      }
    }
  ]
}